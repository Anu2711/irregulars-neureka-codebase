{
 "cells": [
  {
   "cell_type": "code",
   "execution_count": null,
   "metadata": {},
   "outputs": [],
   "source": [
    "import os\n",
    "import pandas as pd\n",
    "import numpy as np\n",
    "import matplotlib.pyplot as plt\n",
    "from multiprocessing import Pool\n",
    "import h5py\n",
    "import sys\n",
    "\n",
    "# Make sure these folders can be accessed by Python, they are provided in another part of the codebase\n",
    "import loading\n",
    "import nedc"
   ]
  },
  {
   "cell_type": "code",
   "execution_count": null,
   "metadata": {},
   "outputs": [],
   "source": [
    "base_directory = 'PATH_OF_DATASET'\n",
    "save_path = 'PATH_OF_NEW_FILE.h5'\n",
    "\n",
    "includes_tse = False # Boolean flag, whether .tse files can also be loaded"
   ]
  },
  {
   "cell_type": "code",
   "execution_count": null,
   "metadata": {},
   "outputs": [],
   "source": [
    "def wrangle_tse(tse_path, length, fs=200):\n",
    "\n",
    "    label_dct = {\n",
    "\n",
    "        'bckg': 0,\n",
    "        'seiz': 1\n",
    "            }\n",
    "\n",
    "    label = np.zeros(shape=(length,))\n",
    "\n",
    "    df_label = pd.read_csv(\n",
    "            filepath_or_buffer=tse_path,\n",
    "            header=None,\n",
    "            sep=' ',\n",
    "            names=['start', 'stop', 'label', 'confidence'],\n",
    "            skiprows=2,\n",
    "            na_filter=False\n",
    "        )\n",
    "\n",
    "    for i, time_s in enumerate(df_label.start):\n",
    "        label_str = df_label.label[i]\n",
    "        label[int(time_s*fs):] = label_dct[label_str]\n",
    "    \n",
    "    return label"
   ]
  },
  {
   "cell_type": "code",
   "execution_count": null,
   "metadata": {},
   "outputs": [],
   "source": [
    "edf_files = []\n",
    "for root, dirs, files in os.walk(base_directory):\n",
    "    for file in files:\n",
    "        if file.endswith(\".edf\"):\n",
    "             edf_files.append(os.path.join(root, file))"
   ]
  },
  {
   "cell_type": "code",
   "execution_count": null,
   "metadata": {},
   "outputs": [],
   "source": [
    "len(edf_files)"
   ]
  },
  {
   "cell_type": "markdown",
   "metadata": {},
   "source": [
    "# Process_file definition\n",
    "*includes_tse* flag determines whether labels can also be loaded. Change *wiener* to True in the definition to use the Wiener filter as preprocessing."
   ]
  },
  {
   "cell_type": "code",
   "execution_count": null,
   "metadata": {},
   "outputs": [],
   "source": [
    "if includes_tse:\n",
    "    def process_file(file_path):\n",
    "        file_name = file_path[-22-7:-4-7]\n",
    "        \n",
    "        try:\n",
    "            (fs, data, mount) = loading.loadRecording(file_path, wiener=False)\n",
    "            signal = np.asarray(data, dtype=np.float32)\n",
    "        \n",
    "        label = wrangle_tse(file_path[:-4]+'.tse_bi', length=signal.shape[1])\n",
    "        label = np.asarray(label, dtype=np.uint8)\n",
    "        except TypeError:\n",
    "            signal = 0\n",
    "        \n",
    "        return file_name, signal, label\n",
    "else:\n",
    "    def process_file(file_path):\n",
    "        file_name = file_path[-22-7:-4-7]\n",
    "        \n",
    "        try:\n",
    "            (fs, data, mount) = loading.loadRecording(file_path, wiener=False)\n",
    "            signal = np.asarray(data, dtype=np.float32)\n",
    "\n",
    "        except TypeError:\n",
    "            signal = 0\n",
    "\n",
    "        return file_name, signal"
   ]
  },
  {
   "cell_type": "code",
   "execution_count": null,
   "metadata": {},
   "outputs": [],
   "source": [
    "pool = Pool()"
   ]
  },
  {
   "cell_type": "code",
   "execution_count": null,
   "metadata": {},
   "outputs": [],
   "source": [
    "if includes_tse:\n",
    "    file_names, signals, labels = zip(*pool.map(process_file, edf_files))\n",
    "else:\n",
    "    file_names, signals = zip(*pool.map(process_file, edf_files))"
   ]
  },
  {
   "cell_type": "markdown",
   "metadata": {},
   "source": [
    "# Saving data"
   ]
  },
  {
   "cell_type": "markdown",
   "metadata": {},
   "source": [
    "Make sure that files rejected by ICLabel don't get included in the final dataset"
   ]
  },
  {
   "cell_type": "code",
   "execution_count": null,
   "metadata": {},
   "outputs": [],
   "source": [
    "file_names, signals = zip(*[[file_name, signal] for file_name, signal in zip(file_names, signals) \n",
    "                          if len(np.asarray(signal).shape)!=0])"
   ]
  },
  {
   "cell_type": "code",
   "execution_count": null,
   "metadata": {},
   "outputs": [],
   "source": [
    "if includes_tse:\n",
    "    dt_fl = h5py.vlen_dtype(np.dtype('float32'))\n",
    "    dt_int = h5py.vlen_dtype(np.dtype('uint8'))\n",
    "    dt_str = h5py.special_dtype(vlen=str)\n",
    "    \n",
    "    with h5py.File(save_path, 'w') as f:\n",
    "        dset_signals = f.create_dataset('signals', (len(signals), 18), dtype=dt_fl)\n",
    "        dset_labels = f.create_dataset('labels', (len(labels),), dtype=dt_int)\n",
    "        dset_file_names = f.create_dataset('filenames', (len(file_names),), dtype=dt_str)\n",
    "        \n",
    "        for i in range(len(signals)):\n",
    "            dset_signals[i] = signals[i]\n",
    "            dset_labels[i] = labels[i]\n",
    "            dset_file_names[i] = file_names[i]\n",
    "else:\n",
    "    dt_fl = h5py.vlen_dtype(np.dtype('float32'))\n",
    "    dt_str = h5py.special_dtype(vlen=str)\n",
    "    \n",
    "    with h5py.File(save_path, 'w') as f:\n",
    "        dset_signals = f.create_dataset('signals', (len(signals), 18), dtype=dt_fl)\n",
    "        dset_file_names = f.create_dataset('filenames', (len(file_names),), dtype=dt_str)\n",
    "        \n",
    "        for i in range(len(signals)):\n",
    "            dset_signals[i] = signals[i]\n",
    "            dset_file_names[i] = file_names[i]"
   ]
  },
  {
   "cell_type": "code",
   "execution_count": null,
   "metadata": {},
   "outputs": [],
   "source": []
  }
 ],
 "metadata": {
  "kernelspec": {
   "display_name": "Python 3",
   "language": "python",
   "name": "python3"
  },
  "language_info": {
   "codemirror_mode": {
    "name": "ipython",
    "version": 3
   },
   "file_extension": ".py",
   "mimetype": "text/x-python",
   "name": "python",
   "nbconvert_exporter": "python",
   "pygments_lexer": "ipython3",
   "version": "3.7.3"
  }
 },
 "nbformat": 4,
 "nbformat_minor": 4
}
