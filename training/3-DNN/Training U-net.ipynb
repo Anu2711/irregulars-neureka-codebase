{
 "cells": [
  {
   "cell_type": "code",
   "execution_count": 1,
   "metadata": {},
   "outputs": [],
   "source": [
    "import h5py\n",
    "import numpy as np\n",
    "from sklearn import model_selection\n",
    "import matplotlib.pyplot as plt\n",
    "from sklearn import metrics\n",
    "\n",
    "import tensorflow as tf\n",
    "from tensorflow.keras.optimizers import Adam\n",
    "\n",
    "from utils import SegmentGenerator, setup_tf, build_unet"
   ]
  },
  {
   "cell_type": "code",
   "execution_count": 2,
   "metadata": {},
   "outputs": [],
   "source": [
    "save_path = 'PATH_TO_LOADED_DATA.h5'\n",
    "\n",
    "network_path = 'PATH_TO_NETWORK_WEIGHTS.h5'\n",
    "\n",
    "fs = 200\n",
    "n_secs = 30\n",
    "n_channels = 18"
   ]
  },
  {
   "cell_type": "code",
   "execution_count": 3,
   "metadata": {},
   "outputs": [
    {
     "name": "stdout",
     "output_type": "stream",
     "text": [
      "1 Physical GPUs,  1 Logical GPUs\n"
     ]
    }
   ],
   "source": [
    "setup_tf()"
   ]
  },
  {
   "cell_type": "markdown",
   "metadata": {},
   "source": [
    "# Loading data"
   ]
  },
  {
   "cell_type": "code",
   "execution_count": 4,
   "metadata": {},
   "outputs": [],
   "source": [
    "with h5py.File(save_path, 'r') as f:\n",
    "    file_names = []\n",
    "    labels = []\n",
    "    signals = []\n",
    "    \n",
    "    file_names_ds = f['filenames']\n",
    "    signals_ds = f['signals']\n",
    "    labels_ds = f['labels']\n",
    "    \n",
    "    for i in range(len(signals_ds)):\n",
    "        file_names.append(file_names_ds[i])\n",
    "        data = np.asarray(np.vstack(signals_ds[i]), dtype=np.float32).T\n",
    "        mean = np.mean(data, axis=0)\n",
    "        std = np.std(data, axis=0)\n",
    "        signals.append((data-mean)/std)\n",
    "        labels.append(labels_ds[i])"
   ]
  },
  {
   "cell_type": "markdown",
   "metadata": {},
   "source": [
    "### Detecting seizure containing recordings"
   ]
  },
  {
   "cell_type": "code",
   "execution_count": 5,
   "metadata": {},
   "outputs": [],
   "source": [
    "seizure_label = []\n",
    "for label in labels:\n",
    "    seizure_label.append(np.sum(label)>0)\n",
    "seizure_label = np.asarray(seizure_label, dtype=np.uint8)"
   ]
  },
  {
   "cell_type": "code",
   "execution_count": 6,
   "metadata": {},
   "outputs": [
    {
     "data": {
      "image/png": "[encoded data removed]",
      "text/plain": [
       "<Figure size 432x288 with 1 Axes>"
      ]
     },
     "metadata": {
      "needs_background": "light"
     },
     "output_type": "display_data"
    }
   ],
   "source": [
    "plt.hist(seizure_label);"
   ]
  },
  {
   "cell_type": "markdown",
   "metadata": {},
   "source": [
    "### Train - validation split"
   ]
  },
  {
   "cell_type": "code",
   "execution_count": 7,
   "metadata": {},
   "outputs": [],
   "source": [
    "signal_train, signal_val, label_train, label_val = model_selection.train_test_split(signals, labels,\n",
    "                                 test_size=0.2, random_state=1337, stratify=seizure_label)"
   ]
  },
  {
   "cell_type": "markdown",
   "metadata": {},
   "source": [
    "# Generator"
   ]
  },
  {
   "cell_type": "markdown",
   "metadata": {},
   "source": [
    "# U-Net"
   ]
  },
  {
   "cell_type": "code",
   "execution_count": 8,
   "metadata": {},
   "outputs": [],
   "source": [
    "n_filters = 8\n",
    "window_size = 4096\n",
    "n_channels = 18"
   ]
  },
  {
   "cell_type": "code",
   "execution_count": 9,
   "metadata": {},
   "outputs": [],
   "source": [
    "unet, unet_train = build_unet(window_size=window_size, n_channels=n_channels, n_filters=n_filters)"
   ]
  },
  {
   "cell_type": "code",
   "execution_count": 10,
   "metadata": {},
   "outputs": [
    {
     "name": "stdout",
     "output_type": "stream",
     "text": [
      "Model: \"model\"\n",
      "__________________________________________________________________________________________________\n",
      "Layer (type)                    Output Shape         Param #     Connected to                     \n",
      "==================================================================================================\n",
      "input_1 (InputLayer)            [(None, 4096, 18)]   0                                            \n",
      "__________________________________________________________________________________________________\n",
      "reshape (Reshape)               (None, 4096, 18, 1)  0           input_1[0][0]                    \n",
      "__________________________________________________________________________________________________\n",
      "conv2d (Conv2D)                 (None, 4096, 18, 8)  128         reshape[0][0]                    \n",
      "__________________________________________________________________________________________________\n",
      "batch_normalization (BatchNorma (None, 4096, 18, 8)  32          conv2d[0][0]                     \n",
      "__________________________________________________________________________________________________\n",
      "elu (ELU)                       (None, 4096, 18, 8)  0           batch_normalization[0][0]        \n",
      "__________________________________________________________________________________________________\n",
      "max_pooling2d (MaxPooling2D)    (None, 1024, 18, 8)  0           elu[0][0]                        \n",
      "__________________________________________________________________________________________________\n",
      "conv2d_1 (Conv2D)               (None, 1024, 18, 16) 1936        max_pooling2d[0][0]              \n",
      "__________________________________________________________________________________________________\n",
      "batch_normalization_1 (BatchNor (None, 1024, 18, 16) 64          conv2d_1[0][0]                   \n",
      "__________________________________________________________________________________________________\n",
      "elu_1 (ELU)                     (None, 1024, 18, 16) 0           batch_normalization_1[0][0]      \n",
      "__________________________________________________________________________________________________\n",
      "max_pooling2d_1 (MaxPooling2D)  (None, 256, 18, 16)  0           elu_1[0][0]                      \n",
      "__________________________________________________________________________________________________\n",
      "conv2d_2 (Conv2D)               (None, 256, 18, 32)  7712        max_pooling2d_1[0][0]            \n",
      "__________________________________________________________________________________________________\n",
      "batch_normalization_2 (BatchNor (None, 256, 18, 32)  128         conv2d_2[0][0]                   \n",
      "__________________________________________________________________________________________________\n",
      "elu_2 (ELU)                     (None, 256, 18, 32)  0           batch_normalization_2[0][0]      \n",
      "__________________________________________________________________________________________________\n",
      "max_pooling2d_2 (MaxPooling2D)  (None, 64, 18, 32)   0           elu_2[0][0]                      \n",
      "__________________________________________________________________________________________________\n",
      "conv2d_3 (Conv2D)               (None, 64, 18, 32)   7200        max_pooling2d_2[0][0]            \n",
      "__________________________________________________________________________________________________\n",
      "batch_normalization_3 (BatchNor (None, 64, 18, 32)   128         conv2d_3[0][0]                   \n",
      "__________________________________________________________________________________________________\n",
      "elu_3 (ELU)                     (None, 64, 18, 32)   0           batch_normalization_3[0][0]      \n",
      "__________________________________________________________________________________________________\n",
      "max_pooling2d_3 (MaxPooling2D)  (None, 16, 18, 32)   0           elu_3[0][0]                      \n",
      "__________________________________________________________________________________________________\n",
      "conv2d_4 (Conv2D)               (None, 16, 18, 64)   6208        max_pooling2d_3[0][0]            \n",
      "__________________________________________________________________________________________________\n",
      "batch_normalization_4 (BatchNor (None, 16, 18, 64)   256         conv2d_4[0][0]                   \n",
      "__________________________________________________________________________________________________\n",
      "elu_4 (ELU)                     (None, 16, 18, 64)   0           batch_normalization_4[0][0]      \n",
      "__________________________________________________________________________________________________\n",
      "max_pooling2d_4 (MaxPooling2D)  (None, 4, 18, 64)    0           elu_4[0][0]                      \n",
      "__________________________________________________________________________________________________\n",
      "conv2d_5 (Conv2D)               (None, 4, 18, 64)    12352       max_pooling2d_4[0][0]            \n",
      "__________________________________________________________________________________________________\n",
      "batch_normalization_5 (BatchNor (None, 4, 18, 64)    256         conv2d_5[0][0]                   \n",
      "__________________________________________________________________________________________________\n",
      "elu_5 (ELU)                     (None, 4, 18, 64)    0           batch_normalization_5[0][0]      \n",
      "__________________________________________________________________________________________________\n",
      "max_pooling2d_5 (MaxPooling2D)  (None, 4, 1, 64)     0           elu_5[0][0]                      \n",
      "__________________________________________________________________________________________________\n",
      "conv2d_6 (Conv2D)               (None, 4, 1, 32)     6176        max_pooling2d_5[0][0]            \n",
      "__________________________________________________________________________________________________\n",
      "batch_normalization_6 (BatchNor (None, 4, 1, 32)     128         conv2d_6[0][0]                   \n",
      "__________________________________________________________________________________________________\n",
      "elu_6 (ELU)                     (None, 4, 1, 32)     0           batch_normalization_6[0][0]      \n",
      "__________________________________________________________________________________________________\n",
      "dropout (Dropout)               (None, 4, 1, 32)     0           elu_6[0][0]                      \n",
      "__________________________________________________________________________________________________\n",
      "conv2d_7 (Conv2D)               (None, 4, 1, 32)     3104        dropout[0][0]                    \n",
      "__________________________________________________________________________________________________\n",
      "batch_normalization_7 (BatchNor (None, 4, 1, 32)     128         conv2d_7[0][0]                   \n",
      "__________________________________________________________________________________________________\n",
      "elu_7 (ELU)                     (None, 4, 1, 32)     0           batch_normalization_7[0][0]      \n",
      "__________________________________________________________________________________________________\n",
      "dropout_1 (Dropout)             (None, 4, 1, 32)     0           elu_7[0][0]                      \n",
      "__________________________________________________________________________________________________\n",
      "up_sampling2d (UpSampling2D)    (None, 16, 1, 32)    0           dropout_1[0][0]                  \n",
      "__________________________________________________________________________________________________\n",
      "conv2d_9 (Conv2D)               (None, 16, 1, 32)    1024        up_sampling2d[0][0]              \n",
      "__________________________________________________________________________________________________\n",
      "conv2d_10 (Conv2D)              (None, 16, 18, 32)   2048        elu_4[0][0]                      \n",
      "__________________________________________________________________________________________________\n",
      "add (Add)                       (None, 16, 18, 32)   0           conv2d_9[0][0]                   \n",
      "                                                                 conv2d_10[0][0]                  \n",
      "__________________________________________________________________________________________________\n",
      "biased_conv (BiasedConv)        (None, 16, 18, 32)   32          add[0][0]                        \n",
      "__________________________________________________________________________________________________\n",
      "conv2d_11 (Conv2D)              (None, 16, 18, 1)    33          biased_conv[0][0]                \n",
      "__________________________________________________________________________________________________\n",
      "multiply (Multiply)             (None, 16, 18, 64)   0           conv2d_11[0][0]                  \n",
      "                                                                 elu_4[0][0]                      \n",
      "__________________________________________________________________________________________________\n",
      "average_pooling2d (AveragePooli (None, 16, 1, 64)    0           multiply[0][0]                   \n",
      "__________________________________________________________________________________________________\n",
      "concatenate (Concatenate)       (None, 16, 1, 96)    0           up_sampling2d[0][0]              \n",
      "                                                                 average_pooling2d[0][0]          \n",
      "__________________________________________________________________________________________________\n",
      "conv2d_13 (Conv2D)              (None, 16, 1, 32)    9248        concatenate[0][0]                \n",
      "__________________________________________________________________________________________________\n",
      "batch_normalization_8 (BatchNor (None, 16, 1, 32)    128         conv2d_13[0][0]                  \n",
      "__________________________________________________________________________________________________\n",
      "elu_8 (ELU)                     (None, 16, 1, 32)    0           batch_normalization_8[0][0]      \n",
      "__________________________________________________________________________________________________\n",
      "up_sampling2d_1 (UpSampling2D)  (None, 64, 1, 32)    0           elu_8[0][0]                      \n",
      "__________________________________________________________________________________________________\n",
      "conv2d_14 (Conv2D)              (None, 64, 1, 32)    1024        up_sampling2d_1[0][0]            \n",
      "__________________________________________________________________________________________________\n",
      "conv2d_15 (Conv2D)              (None, 64, 18, 32)   1024        elu_3[0][0]                      \n",
      "__________________________________________________________________________________________________\n",
      "add_1 (Add)                     (None, 64, 18, 32)   0           conv2d_14[0][0]                  \n",
      "                                                                 conv2d_15[0][0]                  \n",
      "__________________________________________________________________________________________________\n",
      "biased_conv_1 (BiasedConv)      (None, 64, 18, 32)   32          add_1[0][0]                      \n",
      "__________________________________________________________________________________________________\n",
      "conv2d_16 (Conv2D)              (None, 64, 18, 1)    33          biased_conv_1[0][0]              \n",
      "__________________________________________________________________________________________________\n",
      "multiply_1 (Multiply)           (None, 64, 18, 32)   0           conv2d_16[0][0]                  \n",
      "                                                                 elu_3[0][0]                      \n",
      "__________________________________________________________________________________________________\n",
      "average_pooling2d_1 (AveragePoo (None, 64, 1, 32)    0           multiply_1[0][0]                 \n",
      "__________________________________________________________________________________________________\n",
      "concatenate_1 (Concatenate)     (None, 64, 1, 64)    0           up_sampling2d_1[0][0]            \n",
      "                                                                 average_pooling2d_1[0][0]        \n",
      "__________________________________________________________________________________________________\n",
      "conv2d_18 (Conv2D)              (None, 64, 1, 32)    14368       concatenate_1[0][0]              \n",
      "__________________________________________________________________________________________________\n",
      "batch_normalization_9 (BatchNor (None, 64, 1, 32)    128         conv2d_18[0][0]                  \n",
      "__________________________________________________________________________________________________\n",
      "elu_9 (ELU)                     (None, 64, 1, 32)    0           batch_normalization_9[0][0]      \n",
      "__________________________________________________________________________________________________\n",
      "up_sampling2d_2 (UpSampling2D)  (None, 256, 1, 32)   0           elu_9[0][0]                      \n",
      "__________________________________________________________________________________________________\n",
      "conv2d_19 (Conv2D)              (None, 256, 1, 32)   1024        up_sampling2d_2[0][0]            \n",
      "__________________________________________________________________________________________________\n",
      "conv2d_20 (Conv2D)              (None, 256, 18, 32)  1024        elu_2[0][0]                      \n",
      "__________________________________________________________________________________________________\n",
      "add_2 (Add)                     (None, 256, 18, 32)  0           conv2d_19[0][0]                  \n",
      "                                                                 conv2d_20[0][0]                  \n",
      "__________________________________________________________________________________________________\n",
      "biased_conv_2 (BiasedConv)      (None, 256, 18, 32)  32          add_2[0][0]                      \n",
      "__________________________________________________________________________________________________\n",
      "conv2d_21 (Conv2D)              (None, 256, 18, 1)   33          biased_conv_2[0][0]              \n",
      "__________________________________________________________________________________________________\n",
      "multiply_2 (Multiply)           (None, 256, 18, 32)  0           conv2d_21[0][0]                  \n",
      "                                                                 elu_2[0][0]                      \n",
      "__________________________________________________________________________________________________\n",
      "average_pooling2d_2 (AveragePoo (None, 256, 1, 32)   0           multiply_2[0][0]                 \n",
      "__________________________________________________________________________________________________\n",
      "concatenate_2 (Concatenate)     (None, 256, 1, 64)   0           up_sampling2d_2[0][0]            \n",
      "                                                                 average_pooling2d_2[0][0]        \n",
      "__________________________________________________________________________________________________\n",
      "conv2d_23 (Conv2D)              (None, 256, 1, 32)   30752       concatenate_2[0][0]              \n",
      "__________________________________________________________________________________________________\n",
      "batch_normalization_10 (BatchNo (None, 256, 1, 32)   128         conv2d_23[0][0]                  \n",
      "__________________________________________________________________________________________________\n",
      "elu_10 (ELU)                    (None, 256, 1, 32)   0           batch_normalization_10[0][0]     \n",
      "__________________________________________________________________________________________________\n",
      "up_sampling2d_3 (UpSampling2D)  (None, 1024, 1, 32)  0           elu_10[0][0]                     \n",
      "__________________________________________________________________________________________________\n",
      "conv2d_24 (Conv2D)              (None, 1024, 1, 32)  1024        up_sampling2d_3[0][0]            \n",
      "__________________________________________________________________________________________________\n",
      "conv2d_25 (Conv2D)              (None, 1024, 18, 32) 512         elu_1[0][0]                      \n",
      "__________________________________________________________________________________________________\n",
      "add_3 (Add)                     (None, 1024, 18, 32) 0           conv2d_24[0][0]                  \n",
      "                                                                 conv2d_25[0][0]                  \n",
      "__________________________________________________________________________________________________\n",
      "biased_conv_3 (BiasedConv)      (None, 1024, 18, 32) 32          add_3[0][0]                      \n",
      "__________________________________________________________________________________________________\n",
      "conv2d_26 (Conv2D)              (None, 1024, 18, 1)  33          biased_conv_3[0][0]              \n",
      "__________________________________________________________________________________________________\n",
      "multiply_3 (Multiply)           (None, 1024, 18, 16) 0           conv2d_26[0][0]                  \n",
      "                                                                 elu_1[0][0]                      \n",
      "__________________________________________________________________________________________________\n",
      "average_pooling2d_3 (AveragePoo (None, 1024, 1, 16)  0           multiply_3[0][0]                 \n",
      "__________________________________________________________________________________________________\n",
      "concatenate_3 (Concatenate)     (None, 1024, 1, 48)  0           up_sampling2d_3[0][0]            \n",
      "                                                                 average_pooling2d_3[0][0]        \n",
      "__________________________________________________________________________________________________\n",
      "conv2d_28 (Conv2D)              (None, 1024, 1, 32)  23072       concatenate_3[0][0]              \n",
      "__________________________________________________________________________________________________\n",
      "batch_normalization_11 (BatchNo (None, 1024, 1, 32)  128         conv2d_28[0][0]                  \n",
      "__________________________________________________________________________________________________\n",
      "elu_11 (ELU)                    (None, 1024, 1, 32)  0           batch_normalization_11[0][0]     \n",
      "__________________________________________________________________________________________________\n",
      "up_sampling2d_4 (UpSampling2D)  (None, 4096, 1, 32)  0           elu_11[0][0]                     \n",
      "__________________________________________________________________________________________________\n",
      "conv2d_29 (Conv2D)              (None, 4096, 1, 32)  1024        up_sampling2d_4[0][0]            \n",
      "__________________________________________________________________________________________________\n",
      "conv2d_30 (Conv2D)              (None, 4096, 18, 32) 256         elu[0][0]                        \n",
      "__________________________________________________________________________________________________\n",
      "add_4 (Add)                     (None, 4096, 18, 32) 0           conv2d_29[0][0]                  \n",
      "                                                                 conv2d_30[0][0]                  \n",
      "__________________________________________________________________________________________________\n",
      "biased_conv_4 (BiasedConv)      (None, 4096, 18, 32) 32          add_4[0][0]                      \n",
      "__________________________________________________________________________________________________\n",
      "conv2d_31 (Conv2D)              (None, 4096, 18, 1)  33          biased_conv_4[0][0]              \n",
      "__________________________________________________________________________________________________\n",
      "multiply_4 (Multiply)           (None, 4096, 18, 8)  0           conv2d_31[0][0]                  \n",
      "                                                                 elu[0][0]                        \n",
      "__________________________________________________________________________________________________\n",
      "average_pooling2d_4 (AveragePoo (None, 4096, 1, 8)   0           multiply_4[0][0]                 \n",
      "__________________________________________________________________________________________________\n",
      "concatenate_4 (Concatenate)     (None, 4096, 1, 40)  0           up_sampling2d_4[0][0]            \n",
      "                                                                 average_pooling2d_4[0][0]        \n",
      "__________________________________________________________________________________________________\n",
      "conv2d_32 (Conv2D)              (None, 4096, 1, 32)  19232       concatenate_4[0][0]              \n",
      "__________________________________________________________________________________________________\n",
      "batch_normalization_12 (BatchNo (None, 4096, 1, 32)  128         conv2d_32[0][0]                  \n",
      "__________________________________________________________________________________________________\n",
      "elu_12 (ELU)                    (None, 4096, 1, 32)  0           batch_normalization_12[0][0]     \n",
      "__________________________________________________________________________________________________\n",
      "conv2d_33 (Conv2D)              (None, 4096, 1, 32)  15392       elu_12[0][0]                     \n",
      "__________________________________________________________________________________________________\n",
      "batch_normalization_13 (BatchNo (None, 4096, 1, 32)  128         conv2d_33[0][0]                  \n",
      "__________________________________________________________________________________________________\n",
      "elu_13 (ELU)                    (None, 4096, 1, 32)  0           batch_normalization_13[0][0]     \n",
      "__________________________________________________________________________________________________\n",
      "conv2d_34 (Conv2D)              (None, 4096, 1, 1)   481         elu_13[0][0]                     \n",
      "__________________________________________________________________________________________________\n",
      "reshape_6 (Reshape)             (None, 4096)         0           conv2d_34[0][0]                  \n",
      "==================================================================================================\n",
      "Total params: 169,558\n",
      "Trainable params: 168,614\n",
      "Non-trainable params: 944\n",
      "__________________________________________________________________________________________________\n"
     ]
    }
   ],
   "source": [
    "unet.summary()"
   ]
  },
  {
   "cell_type": "markdown",
   "metadata": {},
   "source": [
    "# Training"
   ]
  },
  {
   "cell_type": "code",
   "execution_count": 11,
   "metadata": {},
   "outputs": [],
   "source": [
    "generator = SegmentGenerator(signals=signal_train, labels=label_train, batch_size=32,\n",
    "                             window_size=window_size, stride=1000, n_channels=n_channels)"
   ]
  },
  {
   "cell_type": "code",
   "execution_count": 12,
   "metadata": {},
   "outputs": [],
   "source": [
    "n_batches = len(generator)\n",
    "n_epochs = 100\n",
    "optimizer = Adam(lr=1e-4)\n",
    "\n",
    "loss_train = np.zeros(shape=(n_epochs,))\n",
    "xentr_train = np.zeros(shape=(n_epochs,))\n",
    "xentr_val_mean = np.zeros(shape=(n_epochs,))\n",
    "xentr_val_std = np.zeros(shape=(n_epochs,))\n",
    "one = np.float32(1.)\n",
    "bin_xent = tf.keras.losses.BinaryCrossentropy(label_smoothing=0.2)\n",
    "\n",
    "best_loss = 1e20"
   ]
  },
  {
   "cell_type": "code",
   "execution_count": 13,
   "metadata": {},
   "outputs": [],
   "source": [
    "all_labels = np.copy(np.concatenate(label_train))\n",
    "n_bckg = np.sum(all_labels==0)\n",
    "n_seiz = np.sum(all_labels==1)\n",
    "del all_labels"
   ]
  },
  {
   "cell_type": "code",
   "execution_count": 14,
   "metadata": {
    "scrolled": true
   },
   "outputs": [
    {
     "name": "stdout",
     "output_type": "stream",
     "text": [
      "====== Epoch #  0 ======\n"
     ]
    },
    {
     "ename": "KeyboardInterrupt",
     "evalue": "",
     "output_type": "error",
     "traceback": [
      "\u001b[0;31m---------------------------------------------------------------------------\u001b[0m",
      "\u001b[0;31mKeyboardInterrupt\u001b[0m                         Traceback (most recent call last)",
      "\u001b[0;32m<ipython-input-14-591f7adc0c93>\u001b[0m in \u001b[0;36m<module>\u001b[0;34m\u001b[0m\n\u001b[1;32m     14\u001b[0m             \u001b[0my\u001b[0m \u001b[0;34m=\u001b[0m \u001b[0my\u001b[0m\u001b[0;34m[\u001b[0m\u001b[0;34m:\u001b[0m\u001b[0;34m,\u001b[0m \u001b[0;34m:\u001b[0m\u001b[0;34m:\u001b[0m\u001b[0;36m4\u001b[0m\u001b[0;34m]\u001b[0m\u001b[0;34m\u001b[0m\u001b[0;34m\u001b[0m\u001b[0m\n\u001b[1;32m     15\u001b[0m             xentr1 = bin_xent(y_true=tf.expand_dims(y, axis=-1), y_pred=tf.expand_dims(y_1, axis=-1),\n\u001b[0;32m---> 16\u001b[0;31m                              sample_weight=n_bckg/n_seiz*y+(one-y))\n\u001b[0m\u001b[1;32m     17\u001b[0m             \u001b[0my\u001b[0m \u001b[0;34m=\u001b[0m \u001b[0my\u001b[0m\u001b[0;34m[\u001b[0m\u001b[0;34m:\u001b[0m\u001b[0;34m,\u001b[0m \u001b[0;34m:\u001b[0m\u001b[0;34m:\u001b[0m\u001b[0;36m4\u001b[0m\u001b[0;34m]\u001b[0m\u001b[0;34m\u001b[0m\u001b[0;34m\u001b[0m\u001b[0m\n\u001b[1;32m     18\u001b[0m             xentr2 = bin_xent(y_true=tf.expand_dims(y, axis=-1), y_pred=tf.expand_dims(y_2, axis=-1),\n",
      "\u001b[0;31mKeyboardInterrupt\u001b[0m: "
     ]
    }
   ],
   "source": [
    "for epoch in range(n_epochs):\n",
    "    \n",
    "    epoch_loss_avg = tf.keras.metrics.Mean()\n",
    "    epoch_xentr_avg = tf.keras.metrics.Mean()\n",
    "    print('====== Epoch #{0:3d} ======'.format(epoch))\n",
    "    for batch in range(n_batches):\n",
    "        x, y = generator.__getitem__(batch)\n",
    "        \n",
    "        with tf.GradientTape() as t:\n",
    "            y_0, y_1, y_2, y_3, y_4, y_5 = unet_train(x, training=True)\n",
    "            xentr0 = bin_xent(y_true=tf.expand_dims(y, axis=-1), y_pred=tf.expand_dims(y_0, axis=-1),\n",
    "                             sample_weight=n_bckg/n_seiz*y+(one-y))\n",
    "            y = y[:, ::4]\n",
    "            xentr1 = bin_xent(y_true=tf.expand_dims(y, axis=-1), y_pred=tf.expand_dims(y_1, axis=-1),\n",
    "                             sample_weight=n_bckg/n_seiz*y+(one-y))\n",
    "            y = y[:, ::4]\n",
    "            xentr2 = bin_xent(y_true=tf.expand_dims(y, axis=-1), y_pred=tf.expand_dims(y_2, axis=-1),\n",
    "                             sample_weight=n_bckg/n_seiz*y+(one-y))\n",
    "            y = y[:, ::4]\n",
    "            xentr3 = bin_xent(y_true=tf.expand_dims(y, axis=-1), y_pred=tf.expand_dims(y_3, axis=-1),\n",
    "                             sample_weight=n_bckg/n_seiz*y+(one-y))\n",
    "            y = y[:, ::4]\n",
    "            xentr4 = bin_xent(y_true=tf.expand_dims(y, axis=-1), y_pred=tf.expand_dims(y_4, axis=-1),\n",
    "                             sample_weight=n_bckg/n_seiz*y+(one-y))\n",
    "            y = y[:, ::4]\n",
    "            xentr5 = bin_xent(y_true=tf.expand_dims(y, axis=-1), y_pred=tf.expand_dims(y_5, axis=-1),\n",
    "                             sample_weight=n_bckg/n_seiz*y+(one-y))\n",
    "\n",
    "            loss0 = tf.reduce_mean(xentr0)\n",
    "            loss1 = tf.reduce_mean(xentr1)\n",
    "            loss2 = tf.reduce_mean(xentr2)\n",
    "            loss3 = tf.reduce_mean(xentr3)\n",
    "            loss4 = tf.reduce_mean(xentr4)\n",
    "            loss5 = tf.reduce_mean(xentr5)\n",
    "            loss = loss0 + 0.2*(loss1 + loss2 + loss3 + loss4 + loss5)\n",
    "            \n",
    "        grad = t.gradient(loss, unet_train.trainable_variables)\n",
    "        optimizer.apply_gradients(zip(grad, unet_train.trainable_variables))\n",
    "        epoch_loss_avg(loss)\n",
    "        epoch_xentr_avg(loss0)\n",
    "    \n",
    "    generator.on_epoch_end()\n",
    "    \n",
    "    xentr_train[epoch] = epoch_xentr_avg.result()\n",
    "    loss_train[epoch] = epoch_loss_avg.result()\n",
    "    print('Loss Train     - {0:.4f}'.format(loss_train[epoch]))\n",
    "    print('Xentropy Train - {0:.4f}'.format(xentr_train[epoch]))\n",
    "    \n",
    "    xentr = []\n",
    "    for j in range(len(signal_val)):\n",
    "        signal = signal_val[j]\n",
    "        label = label_val[j]\n",
    "        if len(signal) < window_size:\n",
    "            break\n",
    "        x = []\n",
    "        y = []\n",
    "        for i in range(len(signal)//window_size):\n",
    "            x.append(signal[window_size*i:(i+1)*window_size, :])\n",
    "            y.append(label[window_size*i:(i+1)*window_size])\n",
    "        x = np.asarray(x, dtype=np.float32)\n",
    "        y = np.asarray(y, dtype=np.float32)\n",
    "        y_ = unet.predict(x)\n",
    "        xentr.append(bin_xent(y_true=tf.expand_dims(y, axis=-1), y_pred=tf.expand_dims(y_, axis=-1),\n",
    "                             sample_weight=n_bckg/n_seiz*y+(one-y)).numpy())\n",
    "        \n",
    "    xentr_val_mean[epoch] = np.mean(xentr)\n",
    "    xentr_val_std[epoch] = np.std(xentr)\n",
    "    \n",
    "    if xentr_val_mean[epoch] < best_loss:\n",
    "        best_loss = xentr_val_mean[epoch]\n",
    "        unet.save_weights(network_path)\n",
    "    \n",
    "    print('Xentropy Val   - {0:.4f} ± {1:.4f}'.format(xentr_val_mean[epoch], xentr_val_std[epoch]))"
   ]
  },
  {
   "cell_type": "code",
   "execution_count": null,
   "metadata": {},
   "outputs": [],
   "source": [
    "plt.plot(xentr_train)\n",
    "plt.plot(xentr_val_mean)"
   ]
  },
  {
   "cell_type": "markdown",
   "metadata": {},
   "source": [
    "# Performance"
   ]
  },
  {
   "cell_type": "code",
   "execution_count": null,
   "metadata": {},
   "outputs": [],
   "source": [
    "unet.load_weights(network_path)"
   ]
  },
  {
   "cell_type": "code",
   "execution_count": null,
   "metadata": {},
   "outputs": [],
   "source": [
    "y_probas = []\n",
    "y_trues = []\n",
    "y_probas_pp = []\n",
    "for j in range(len(signal_val)):\n",
    "    signal = signal_val[j]\n",
    "    label = label_val[j]\n",
    "    if len(signal) < window_size:\n",
    "        break\n",
    "    x = []\n",
    "    y = []\n",
    "    for i in range(len(signal)//window_size):\n",
    "        x.append(signal[window_size*i:(i+1)*window_size, :])\n",
    "        y.append(label[window_size*i:(i+1)*window_size])\n",
    "    x = np.asarray(x, dtype=np.float32)\n",
    "    y = np.asarray(y, dtype=np.float32)\n",
    "    y_ = unet.predict(x)\n",
    "    y_probas.append(y_.flatten())\n",
    "    y_trues.append(y.flatten())\n",
    "    y_probas_pp.append(np.convolve(y_.flatten(), np.ones((400,))/400, mode='same'))"
   ]
  },
  {
   "cell_type": "code",
   "execution_count": null,
   "metadata": {},
   "outputs": [],
   "source": [
    "thres = 0.5"
   ]
  },
  {
   "cell_type": "code",
   "execution_count": null,
   "metadata": {},
   "outputs": [],
   "source": [
    "y_true = np.concatenate(y_trues)\n",
    "y_proba = np.concatenate(y_probas)\n",
    "y_pred = y_proba>thres\n",
    "\n",
    "auc = metrics.roc_auc_score(y_true=y_true, y_score=y_proba)\n",
    "acc = metrics.accuracy_score(y_true=y_true, y_pred=y_pred)\n",
    "f1 = metrics.f1_score(y_true=y_true, y_pred=y_pred)\n",
    "rec = metrics.recall_score(y_true=y_true, y_pred=y_pred)\n",
    "prec = metrics.precision_score(y_true=y_true, y_pred=y_pred)\n",
    "sens = rec\n",
    "spec = metrics.recall_score(y_true=y_true==0, y_pred=y_pred==0)\n",
    "\n",
    "y_proba_pp = np.concatenate(y_probas_pp)\n",
    "y_pred_pp = y_proba_pp>thres\n",
    "\n",
    "auc_pp = metrics.roc_auc_score(y_true=y_true, y_score=y_proba_pp)\n",
    "acc_pp = metrics.accuracy_score(y_true=y_true, y_pred=y_pred_pp)\n",
    "f1_pp = metrics.f1_score(y_true=y_true, y_pred=y_pred_pp)\n",
    "rec_pp = metrics.recall_score(y_true=y_true, y_pred=y_pred_pp)\n",
    "prec_pp = metrics.precision_score(y_true=y_true, y_pred=y_pred_pp)\n",
    "sens_pp = rec_pp\n",
    "spec_pp = metrics.recall_score(y_true=y_true==0, y_pred=y_pred_pp==0)"
   ]
  },
  {
   "cell_type": "code",
   "execution_count": null,
   "metadata": {},
   "outputs": [],
   "source": [
    "print(\"========== RESULTS ==========\")\n",
    "print(\"----------   RAW   ----------\")\n",
    "print(\"AU-ROC      - {0:.4f}\".format(auc))\n",
    "print(\"Accuracy    - {0:.4f}\".format(acc))\n",
    "print(\"F1          - {0:.4f}\".format(f1))\n",
    "print(\"Recall      - {0:.4f}\".format(rec))\n",
    "print(\"Precision   - {0:.4f}\".format(prec))\n",
    "print(\"Sensitivity - {0:.4f}\".format(sens))\n",
    "print(\"Specificity - {0:.4f}\".format(spec))\n",
    "print('')\n",
    "print(\"----------  w/ PP  ----------\")\n",
    "print(\"AU-ROC      - {0:.4f}\".format(auc_pp))\n",
    "print(\"Accuracy    - {0:.4f}\".format(acc_pp))\n",
    "print(\"F1          - {0:.4f}\".format(f1_pp))\n",
    "print(\"Recall      - {0:.4f}\".format(rec_pp))\n",
    "print(\"Precision   - {0:.4f}\".format(prec_pp))\n",
    "print(\"Sensitivity - {0:.4f}\".format(sens_pp))\n",
    "print(\"Specificity - {0:.4f}\".format(spec_pp))"
   ]
  },
  {
   "cell_type": "code",
   "execution_count": null,
   "metadata": {},
   "outputs": [],
   "source": []
  },
  {
   "cell_type": "code",
   "execution_count": null,
   "metadata": {},
   "outputs": [],
   "source": []
  }
 ],
 "metadata": {
  "kernelspec": {
   "display_name": "Python 3",
   "language": "python",
   "name": "python3"
  },
  "language_info": {
   "codemirror_mode": {
    "name": "ipython",
    "version": 3
   },
   "file_extension": ".py",
   "mimetype": "text/x-python",
   "name": "python",
   "nbconvert_exporter": "python",
   "pygments_lexer": "ipython3",
   "version": "3.7.3"
  }
 },
 "nbformat": 4,
 "nbformat_minor": 4
}
